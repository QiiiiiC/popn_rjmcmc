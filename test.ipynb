{
 "cells": [
  {
   "cell_type": "code",
   "execution_count": 6,
   "metadata": {},
   "outputs": [
    {
     "ename": "ImportError",
     "evalue": "cannot import name 'prior_likelihood' from 'popn_sim' (/Users/qichen/Desktop/popn_rjmcmc/popn_rjmcmc/popn_sim.py)",
     "output_type": "error",
     "traceback": [
      "\u001b[0;31m---------------------------------------------------------------------------\u001b[0m",
      "\u001b[0;31mImportError\u001b[0m                               Traceback (most recent call last)",
      "\u001b[1;32m/Users/qichen/Desktop/popn_rjmcmc/popn_rjmcmc/test.ipynb 单元格 1\u001b[0m line \u001b[0;36m6\n\u001b[1;32m      <a href='vscode-notebook-cell:/Users/qichen/Desktop/popn_rjmcmc/popn_rjmcmc/test.ipynb#W0sZmlsZQ%3D%3D?line=3'>4</a>\u001b[0m \u001b[39mimport\u001b[39;00m \u001b[39mmath\u001b[39;00m\n\u001b[1;32m      <a href='vscode-notebook-cell:/Users/qichen/Desktop/popn_rjmcmc/popn_rjmcmc/test.ipynb#W0sZmlsZQ%3D%3D?line=4'>5</a>\u001b[0m \u001b[39mimport\u001b[39;00m \u001b[39mrandom\u001b[39;00m\n\u001b[0;32m----> <a href='vscode-notebook-cell:/Users/qichen/Desktop/popn_rjmcmc/popn_rjmcmc/test.ipynb#W0sZmlsZQ%3D%3D?line=5'>6</a>\u001b[0m \u001b[39mfrom\u001b[39;00m \u001b[39mpopn_sim\u001b[39;00m \u001b[39mimport\u001b[39;00m popn_create, mig_add, mig_remove, read_events, prior_likelihood\n\u001b[1;32m      <a href='vscode-notebook-cell:/Users/qichen/Desktop/popn_rjmcmc/popn_rjmcmc/test.ipynb#W0sZmlsZQ%3D%3D?line=6'>7</a>\u001b[0m \u001b[39mfrom\u001b[39;00m \u001b[39mcoal_prior\u001b[39;00m \u001b[39mimport\u001b[39;00m true_prior\n\u001b[1;32m      <a href='vscode-notebook-cell:/Users/qichen/Desktop/popn_rjmcmc/popn_rjmcmc/test.ipynb#W0sZmlsZQ%3D%3D?line=7'>8</a>\u001b[0m \u001b[39mimport\u001b[39;00m \u001b[39mmatplotlib\u001b[39;00m\u001b[39m.\u001b[39;00m\u001b[39mpyplot\u001b[39;00m \u001b[39mas\u001b[39;00m \u001b[39mplt\u001b[39;00m\n",
      "\u001b[0;31mImportError\u001b[0m: cannot import name 'prior_likelihood' from 'popn_sim' (/Users/qichen/Desktop/popn_rjmcmc/popn_rjmcmc/popn_sim.py)"
     ]
    }
   ],
   "source": [
    "import numpy as np\n",
    "import pandas as pd\n",
    "from scipy.stats import expon\n",
    "import math\n",
    "import random\n",
    "from popn_sim import popn_create, mig_add, mig_remove, read_events, mig_rjmcmc, mig_resample, prior_likelihood\n",
    "from coal_prior import true_prior\n",
    "import matplotlib.pyplot as plt\n",
    "random.seed(123)"
   ]
  },
  {
   "cell_type": "code",
   "execution_count": null,
   "metadata": {},
   "outputs": [],
   "source": [
    "#TMRCA\n",
    "N = 100000\n",
    "num = 0\n",
    "for i in range(N):\n",
    "    n, e = true_prior()\n",
    "    num += e[-1][1]\n",
    "true_tmrca = num/N\n",
    "\n",
    "#number of recombination events\n",
    "N = 1000000\n",
    "num = 0\n",
    "for i in range(N):\n",
    "    n, e = true_prior()\n",
    "    l = [x for x in e if x[-1]==0]\n",
    "    num += len(l)/2\n",
    "true_number = num/N"
   ]
  },
  {
   "cell_type": "code",
   "execution_count": null,
   "metadata": {},
   "outputs": [],
   "source": []
  }
 ],
 "metadata": {
  "kernelspec": {
   "display_name": "myenv",
   "language": "python",
   "name": "myenv"
  },
  "language_info": {
   "codemirror_mode": {
    "name": "ipython",
    "version": 3
   },
   "file_extension": ".py",
   "mimetype": "text/x-python",
   "name": "python",
   "nbconvert_exporter": "python",
   "pygments_lexer": "ipython3",
   "version": "3.9.16"
  },
  "orig_nbformat": 4
 },
 "nbformat": 4,
 "nbformat_minor": 2
}
