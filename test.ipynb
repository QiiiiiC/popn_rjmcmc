{
 "cells": [
  {
   "cell_type": "code",
   "execution_count": 5,
   "metadata": {},
   "outputs": [],
   "source": [
    "import numpy as np\n",
    "import pandas as pd\n",
    "from scipy.stats import expon\n",
    "import math\n",
    "import random\n",
    "from popn_sim import popn_create, mig_add, mig_remove, read_events\n",
    "from coal_prior import true_prior\n",
    "import matplotlib.pyplot as plt\n",
    "random.seed(123)"
   ]
  },
  {
   "cell_type": "code",
   "execution_count": null,
   "metadata": {},
   "outputs": [],
   "source": [
    "#TMRCA\n",
    "N = 100000\n",
    "num = 0\n",
    "for i in range(N):\n",
    "    n, e = true_prior()\n",
    "    num += e[-1][1]\n",
    "true_tmrca = num/N\n",
    "\n",
    "#number of recombination events\n",
    "N = 1000000\n",
    "num = 0\n",
    "for i in range(N):\n",
    "    n, e = true_prior()\n",
    "    l = [x for x in e if x[-1]==0]\n",
    "    num += len(l)/2\n",
    "true_number = num/N"
   ]
  },
  {
   "cell_type": "code",
   "execution_count": null,
   "metadata": {},
   "outputs": [],
   "source": []
  }
 ],
 "metadata": {
  "kernelspec": {
   "display_name": "myenv",
   "language": "python",
   "name": "myenv"
  },
  "language_info": {
   "codemirror_mode": {
    "name": "ipython",
    "version": 3
   },
   "file_extension": ".py",
   "mimetype": "text/x-python",
   "name": "python",
   "nbconvert_exporter": "python",
   "pygments_lexer": "ipython3",
   "version": "3.9.16"
  },
  "orig_nbformat": 4
 },
 "nbformat": 4,
 "nbformat_minor": 2
}
