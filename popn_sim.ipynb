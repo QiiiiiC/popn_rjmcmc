{
 "cells": [
  {
   "cell_type": "code",
   "execution_count": 93,
   "metadata": {},
   "outputs": [],
   "source": [
    "import numpy as np\n",
    "import pandas as pd\n",
    "from scipy.stats import expon\n",
    "import math\n",
    "import random"
   ]
  },
  {
   "cell_type": "code",
   "execution_count": 10,
   "metadata": {},
   "outputs": [],
   "source": [
    "def popn_create(n=4):\n",
    "    nodes = {}\n",
    "    for i in range(1,n+1):\n",
    "        nodes[i] = {\n",
    "            'parents': [],\n",
    "            'children': [],\n",
    "            'time': 0,\n",
    "            'frac':1\n",
    "        }\n",
    "    current = [i for i in range(1,n+1)]\n",
    "    t = 0\n",
    "    events = [[0, 0,[i for i in range(1,n+1)],1]]\n",
    "    while len(current)!=1:\n",
    "        wait = expon.rvs(scale = math.comb(len(current),2), size = 1)[0]\n",
    "        t += wait\n",
    "        m = random.sample(current, 2)\n",
    "        new = len(nodes)+1\n",
    "        nodes[new] = {\n",
    "            'parents': [],\n",
    "            'children': m,\n",
    "            'time': t,\n",
    "            'frac': 1\n",
    "        }\n",
    "        for i in m:\n",
    "            nodes[i]['parents'] = [new]\n",
    "        current = list(filter(lambda x: x not in m, current))\n",
    "        current.append(new)\n",
    "        events.append([new,t,current,1])\n",
    "        \n",
    "\n",
    "    return nodes,events\n",
    "\n",
    "    "
   ]
  },
  {
   "cell_type": "code",
   "execution_count": null,
   "metadata": {},
   "outputs": [],
   "source": [
    "def popn_prior(rho, N, n):\n",
    "    nodes = {}\n",
    "    for i in range(1,n+1):\n",
    "        nodes[i] = {\n",
    "            'parents': [],\n",
    "            'children': [],\n",
    "            'time': 0,\n",
    "            'frac':1\n",
    "        }\n",
    "    current = [i for i in range(1,n+1)]\n",
    "    t = 0\n",
    "    events = [[0, 0,[i for i in range(1,n+1)],1]]"
   ]
  },
  {
   "cell_type": "code",
   "execution_count": 94,
   "metadata": {},
   "outputs": [],
   "source": [
    "def read_events(events):\n",
    "    out = {}\n",
    "    for i in events:\n",
    "        out[i[0]] = {'time': i[1],\n",
    "                     'current': i[2],\n",
    "                     'merge':i[3],\n",
    "                     }\n",
    "    return out\n",
    "\n",
    "def keys_events(events):\n",
    "    out = []\n",
    "    for i in events:\n",
    "        out.append(i[0])\n",
    "    return out\n",
    "\n",
    "def timeindex(events,t):\n",
    "    i = 0\n",
    "    if t>events[-1][1]:\n",
    "        return len(events)\n",
    "    else:\n",
    "        while t > events[i][1]:\n",
    "            i = i+1\n",
    "    return i"
   ]
  },
  {
   "cell_type": "code",
   "execution_count": 11,
   "metadata": {},
   "outputs": [
    {
     "data": {
      "text/plain": [
       "{1: {'parents': [6], 'children': [], 'time': 0, 'frac': 1},\n",
       " 2: {'parents': [7], 'children': [], 'time': 0, 'frac': 1},\n",
       " 3: {'parents': [5], 'children': [], 'time': 0, 'frac': 1},\n",
       " 4: {'parents': [5], 'children': [], 'time': 0, 'frac': 1},\n",
       " 5: {'parents': [6], 'children': [3, 4], 'time': 21.9823163993218, 'frac': 1},\n",
       " 6: {'parents': [7], 'children': [5, 1], 'time': 25.09832564477591, 'frac': 1},\n",
       " 7: {'parents': [], 'children': [6, 2], 'time': 25.84555753459837, 'frac': 1}}"
      ]
     },
     "execution_count": 11,
     "metadata": {},
     "output_type": "execute_result"
    }
   ],
   "source": [
    "nodes, events = popn_create()\n",
    "nodes\n"
   ]
  },
  {
   "cell_type": "code",
   "execution_count": 96,
   "metadata": {},
   "outputs": [
    {
     "data": {
      "text/plain": [
       "({1: {'parents': [5], 'children': [], 'time': 0, 'frac': 1},\n",
       "  2: {'parents': [5], 'children': [], 'time': 0, 'frac': 1},\n",
       "  3: {'parents': [7], 'children': [], 'time': 0, 'frac': 1},\n",
       "  4: {'parents': [6], 'children': [], 'time': 0, 'frac': 1},\n",
       "  5: {'parents': [6],\n",
       "   'children': [1, 2],\n",
       "   'time': 1.4489525347399974,\n",
       "   'frac': 1},\n",
       "  6: {'parents': [7],\n",
       "   'children': [5, 4],\n",
       "   'time': 7.665263748528347,\n",
       "   'frac': 1},\n",
       "  7: {'parents': [],\n",
       "   'children': [6, 3],\n",
       "   'time': 8.036523131884787,\n",
       "   'frac': 1}},\n",
       " [[0, 0, [1, 2, 3, 4], 1],\n",
       "  [5, 1.4489525347399974, [3, 4, 5], 1],\n",
       "  [6, 7.665263748528347, [3, 6], 1],\n",
       "  [7, 8.036523131884787, [7], 1]])"
      ]
     },
     "execution_count": 96,
     "metadata": {},
     "output_type": "execute_result"
    }
   ],
   "source": [
    "nodes, events = popn_create()\n",
    "nodes, events"
   ]
  },
  {
   "cell_type": "markdown",
   "metadata": {},
   "source": [
    "There are two types of code in this implementation, one type that are deterministic, and the other type which involves some random distributions."
   ]
  },
  {
   "cell_type": "code",
   "execution_count": 106,
   "metadata": {},
   "outputs": [],
   "source": [
    "def split_time(events):\n",
    "    i = 0\n",
    "    t = 0\n",
    "    while (t>=events[i][1]) & (i<len(events)-1):\n",
    "        n = len(events[i][2])\n",
    "        t = events[i][1]\n",
    "        wait = expon.rvs(scale = math.comb(n,2), size = 1)[0]\n",
    "        t += wait\n",
    "        i += 1\n",
    "    if (i == len(events)-1) & (t>events[-1][1]):\n",
    "        t = events[-1][1]+ expon.rvs(1, size = 1)[0]\n",
    "    \n",
    "    return t"
   ]
  },
  {
   "cell_type": "code",
   "execution_count": 103,
   "metadata": {},
   "outputs": [
    {
     "name": "stdout",
     "output_type": "stream",
     "text": [
      "[[0, 0, [1, 2, 3, 4], 1], [5, 1.4489525347399974, [3, 4, 5], 1], [6, 7.665263748528347, [3, 6], 1], [7, 8.036523131884787, [7], 1]]\n",
      "4\n",
      "0\n",
      "6.067637384571361\n",
      "1\n",
      "3\n",
      "1.4489525347399974\n",
      "8.259822074026374\n",
      "2\n",
      "2\n",
      "7.665263748528347\n",
      "9.821922125278057\n",
      "3\n"
     ]
    }
   ],
   "source": [
    "i = 0\n",
    "t = 0\n",
    "print(events)\n",
    "while (t >= events[i][1]) & (i<len(events)-1):\n",
    "    n = len(events[i][2])\n",
    "    t = events[i][1]\n",
    "    print(n)\n",
    "    print(t)\n",
    "    wait = expon.rvs(scale = math.comb(n,2), size = 1)[0]\n",
    "    t += wait\n",
    "    i += 1\n",
    "    print(t)\n",
    "    print(i)"
   ]
  },
  {
   "cell_type": "code",
   "execution_count": 15,
   "metadata": {},
   "outputs": [
    {
     "data": {
      "text/plain": [
       "0"
      ]
     },
     "execution_count": 15,
     "metadata": {},
     "output_type": "execute_result"
    }
   ],
   "source": [
    "math.comb(1,2)"
   ]
  },
  {
   "cell_type": "code",
   "execution_count": 107,
   "metadata": {},
   "outputs": [],
   "source": [
    "def mig_add(nodes, events):\n",
    "    t_1 = split_time(events)\n",
    "    t_2 = split_time(events)\n",
    "    t_from = min(t_1,t_2)\n",
    "    t_to = max(t_1,t_2)\n",
    "    t_from_index = timeindex(events,t_from)\n",
    "    t_to_index = timeindex(events,t_to)\n",
    "\n",
    "    ##t_from_index is the order index in events.\n",
    "    if t_from_index == len(events):\n",
    "        p_from = events[-1][0]\n",
    "    else:\n",
    "        p_from = random.sample(events[t_from_index-1][2],1)[0]\n",
    "    if t_to_index == len(events):\n",
    "        p_to = events[-1][0]\n",
    "    else:\n",
    "        p_to = random.sample(events[t_to_index-1][2],1)[0]\n",
    "    \n",
    "    f = random.uniform(0,1)\n",
    "    new_a, new_b, new_c = max(keys_events(events))+1, max(keys_events(events))+2, max(keys_events(events))+3\n",
    "    \n",
    "    #if p_to == p_from:\n",
    "    #    return nodes, events\n",
    "    ##This is the case that the migration happens before the root of the original tree.\n",
    "    if t_from_index==len(events):\n",
    "        nodes[new_a] = {\n",
    "        'parents':[new_c],\n",
    "        'children':[p_from],\n",
    "        'time':t_from,\n",
    "        'frac':f\n",
    "        }\n",
    "        nodes[new_b] = {\n",
    "        'parents':[new_c],\n",
    "        'children':[p_from],\n",
    "        'time':t_from,\n",
    "        'frac':1-f\n",
    "        }\n",
    "        nodes[new_c] = {\n",
    "        'parents':[],\n",
    "        'children':[new_a,new_b],\n",
    "        'time':t_to,\n",
    "        'frac':1\n",
    "        }\n",
    "        events.append([new_a,t_from,[new_a,new_b],0])\n",
    "        events.append([new_b,t_from,[new_a,new_b],0])\n",
    "        events.append([new_c,t_to,[new_c],1])\n",
    "        nodes[p_from]['parents']=[new_a,new_b]\n",
    "\n",
    "    ##This is the case that the end of migration is before the root of the tree.\n",
    "    else:\n",
    "        if p_to != p_from:\n",
    "\n",
    "            c_pa = nodes[p_to]['parents']\n",
    "            c_chi = [new_a, p_to]\n",
    "            b_pa = nodes[p_from]['parents']\n",
    "\n",
    "            ##Update the nodes\n",
    "            nodes[p_to]['parents'] = [new_c]\n",
    "            nodes[p_from]['parents'] = [new_a,new_b]\n",
    "            if len(c_pa)>0:\n",
    "                for x in c_pa:\n",
    "                    nodes[x]['children'].remove(p_to)\n",
    "                    nodes[x]['children'].append(new_c)\n",
    "            if len(b_pa)>0:\n",
    "                for x in b_pa:\n",
    "                    nodes[x]['children'].remove(p_from)\n",
    "                    nodes[x]['children'].append(new_b)\n",
    "            nodes[new_a] = {\n",
    "            'parents':[new_c],\n",
    "            'children':[p_from],\n",
    "            'time':t_from,\n",
    "            'frac':f\n",
    "            }\n",
    "            nodes[new_b] = {\n",
    "            'parents':b_pa,\n",
    "            'children':[p_from],\n",
    "            'time':t_from,\n",
    "            'frac':1-f\n",
    "            }\n",
    "            nodes[new_c] = {\n",
    "            'parents':c_pa,\n",
    "            'children':c_chi,\n",
    "            'time':t_to,\n",
    "            'frac':1\n",
    "            }\n",
    "            ##Update the events\n",
    "            events.insert(t_to_index,[new_c,t_to,[],1])\n",
    "            events.insert(t_from_index,[new_b,t_from,[],0])\n",
    "            events.insert(t_from_index,[new_a,t_from,[],0])\n",
    "            for i in range(t_from_index,len(events)):\n",
    "                events[i][2] = [x for x in events[i-1][2] if x not in nodes[events[i][0]]['children']]+[events[i][0]]\n",
    "                if events[i][1] == events[i-1][1]:\n",
    "                    events[i-1][2].append(events[i][0])\n",
    "                events[i][2] = list(set(events[i][2]))\n",
    "        else:\n",
    "            c_pa = nodes[p_to]['parents']\n",
    "            nodes[p_from]['parents'] = [new_a,new_b]\n",
    "            for x in c_pa:\n",
    "                nodes[x]['children'].remove(p_to)\n",
    "                nodes[x]['children'].append(new_c)\n",
    "\n",
    "            nodes[new_a] = {\n",
    "            'parents':[new_c],\n",
    "            'children':[p_from],\n",
    "            'time':t_from,\n",
    "            'frac':f\n",
    "            }\n",
    "            nodes[new_b] = {\n",
    "            'parents':[new_c],\n",
    "            'children':[p_from],\n",
    "            'time':t_from,\n",
    "            'frac':1-f\n",
    "            }\n",
    "            nodes[new_c] = {\n",
    "            'parents':c_pa,\n",
    "            'children':[new_a,new_b],\n",
    "            'time':t_to,\n",
    "            'frac':1\n",
    "            }\n",
    "            events.insert(t_to_index,[new_c,t_to,[],1])\n",
    "            events.insert(t_from_index,[new_b,t_from,[],0])\n",
    "            events.insert(t_from_index,[new_a,t_from,[],0])\n",
    "            for i in range(t_from_index,len(events)):\n",
    "                events[i][2] = [x for x in events[i-1][2] if x not in nodes[events[i][0]]['children']]+[events[i][0]]\n",
    "                if events[i][1] == events[i-1][1]:\n",
    "                    events[i-1][2].append(events[i][0])\n",
    "                events[i][2] = list(set(events[i][2]))\n",
    "\n",
    "    return nodes, events\n"
   ]
  },
  {
   "cell_type": "code",
   "execution_count": 117,
   "metadata": {},
   "outputs": [
    {
     "data": {
      "text/plain": [
       "[[0, 0, [1, 2, 3, 4], 1],\n",
       " [17, 0.10587079880926722, [1, 3, 4, 17, 18], 0],\n",
       " [18, 0.10587079880926722, [1, 3, 4, 17, 18], 0],\n",
       " [26, 0.5467910385953585, [1, 3, 4, 17, 26, 27], 0],\n",
       " [27, 0.5467910385953585, [1, 3, 4, 17, 26, 27], 0],\n",
       " [14, 0.83880803138515, [3, 4, 14, 17, 26, 27, 15], 0],\n",
       " [15, 0.83880803138515, [3, 4, 14, 15, 17, 26, 27], 0],\n",
       " [16, 0.9560095218066542, [3, 4, 15, 16, 17, 26], 1],\n",
       " [5, 1.4489525347399974, [3, 4, 5, 17, 26], 1],\n",
       " [20, 1.5985755099670547, [3, 4, 5, 20, 26, 21], 0],\n",
       " [21, 1.5985755099670547, [3, 4, 5, 20, 21, 26], 0],\n",
       " [11, 1.6236735124544572, [4, 5, 11, 20, 21, 26, 12], 0],\n",
       " [12, 1.6236735124544572, [4, 5, 11, 12, 20, 21, 26], 0],\n",
       " [13, 2.471487984567341, [4, 5, 13, 20, 21, 26], 1],\n",
       " [23, 2.632515881550388, [5, 13, 20, 21, 23, 26, 24], 0],\n",
       " [24, 2.632515881550388, [5, 13, 20, 21, 23, 24, 26], 0],\n",
       " [32, 3.789179030279201, [32, 5, 13, 20, 21, 23, 26, 33], 0],\n",
       " [33, 3.789179030279201, [32, 33, 5, 13, 20, 21, 23, 26], 0],\n",
       " [22, 3.997902676990072, [32, 33, 5, 21, 22, 23, 26], 1],\n",
       " [8, 4.072470890746027, [32, 33, 5, 8, 21, 23, 26, 9], 0],\n",
       " [9, 4.072470890746027, [32, 33, 5, 8, 9, 21, 23, 26], 0],\n",
       " [28, 4.154128734677596, [32, 33, 5, 9, 21, 23, 28], 1],\n",
       " [19, 5.331117906960403, [32, 33, 5, 9, 19, 23], 1],\n",
       " [35, 5.405795921504269, [32, 33, 35, 5, 9, 23, 36], 0],\n",
       " [36, 5.405795921504269, [32, 33, 35, 36, 5, 9, 23], 0],\n",
       " [34, 6.98772029815194, [33, 34, 35, 36, 5, 9], 1],\n",
       " [6, 7.665263748528347, [34, 35, 36, 6, 9], 1],\n",
       " [37, 7.716727700282094, [34, 36, 37, 6], 1],\n",
       " [7, 8.036523131884787, [34, 36, 7], 1],\n",
       " [29, 8.389117409486925, [34, 36, 29, 30], 0],\n",
       " [30, 8.389117409486925, [34, 36, 29, 30], 0],\n",
       " [25, 8.870742850994098, [25, 29, 30], 1],\n",
       " [10, 9.517121111603036, [10, 29], 1],\n",
       " [31, 10.901552844830974, [31], 1]]"
      ]
     },
     "execution_count": 117,
     "metadata": {},
     "output_type": "execute_result"
    }
   ],
   "source": [
    "\n",
    "nodes, events = mig_add(nodes, events)\n",
    "nodes\n",
    "events\n"
   ]
  },
  {
   "cell_type": "code",
   "execution_count": 118,
   "metadata": {},
   "outputs": [],
   "source": [
    "nodes, events = popn_create()"
   ]
  },
  {
   "cell_type": "code",
   "execution_count": 119,
   "metadata": {},
   "outputs": [],
   "source": [
    "def mig_remove(nodes, events):\n",
    "    ##select all the migration branches\n",
    "    l = [x for x in events if x[-1]==0]\n",
    "    p_remove = random.sample(l,1)[0][0]\n",
    "    #select all the migration branches that removed\n",
    "    mig_remove = []\n",
    "    pend = [p_remove]\n",
    "    margin = nodes[nodes[p_remove]['children'][0]]['parents']\n",
    "    margin.remove(p_remove)\n",
    "    mig_count = 1\n",
    "    while  len(pend)!= 0:\n",
    "        a = pend.pop()\n",
    "        mig_remove.append(a)\n",
    "        ll = nodes[a]['parents']\n",
    "        if len(ll) == 2:\n",
    "            pend = pend + ll\n",
    "            mig_count += 1\n",
    "        if len(ll) == 1:\n",
    "            bran = ll[0]\n",
    "            if bran in margin:\n",
    "                pend.append(bran)\n",
    "                margin.remove(bran)\n",
    "            else:\n",
    "                margin.append(bran)\n",
    "    for i in list(nodes.keys()):\n",
    "        if i in mig_remove:\n",
    "            del nodes[i]\n",
    "        else:\n",
    "            nodes[i]['parents'] = [x for x in nodes[i]['parents'] if x not in mig_remove]\n",
    "            nodes[i]['children'] = [x for x in nodes[i]['children'] if x not in mig_remove]\n",
    "    total_remove = mig_remove.copy() + margin.copy()\n",
    "    lmargin = margin.copy()\n",
    "    while len(margin)!= 0:\n",
    "        ##Note that margin can only have one children\n",
    "        m = margin.pop()\n",
    "        pa = nodes[m]['parents']\n",
    "        while nodes[m]['children'][0] in margin:\n",
    "            m = nodes[m]['children'][0]\n",
    "            margin.remove(m)\n",
    "        for x in pa:\n",
    "            nodes[x]['children'] = nodes[x]['children'] + nodes[m]['children']\n",
    "        nodes[nodes[m]['children'][0]]['parents'] = pa\n",
    "    for i in list(nodes.keys()):\n",
    "        if i in lmargin:\n",
    "            del nodes[i]\n",
    "        else:\n",
    "            nodes[i]['parents'] = [x for x in nodes[i]['parents'] if x not in lmargin]\n",
    "            nodes[i]['children'] = [x for x in nodes[i]['children'] if x not in lmargin]\n",
    "    events = [x for x in events if x[0] not in total_remove]\n",
    "    for i in range(1,len(events)):\n",
    "            events[i][2] = [x for x in events[i-1][2] if x not in nodes[events[i][0]]['children']]+[events[i][0]]\n",
    "            if events[i][1] == events[i-1][1]:\n",
    "                events[i-1][2].append(events[i][0])\n",
    "            events[i][2] = list(set(events[i][2]))\n",
    "    for i in range(mig_count-1):\n",
    "         nodes, events = mig_add(nodes, events)\n",
    "         \n",
    "    \n",
    "    return nodes, events"
   ]
  },
  {
   "cell_type": "code",
   "execution_count": 120,
   "metadata": {},
   "outputs": [],
   "source": [
    "nodes, events = popn_create()\n",
    "nodes, events = mig_add(nodes, events)\n",
    "nodes, events = mig_add(nodes, events)\n",
    "nodes, events = mig_add(nodes, events)\n",
    "nodes, events = mig_remove(nodes, events)\n",
    "nodes, events = mig_remove(nodes, events)\n",
    "nodes, events = mig_remove(nodes, events)"
   ]
  },
  {
   "cell_type": "code",
   "execution_count": 121,
   "metadata": {},
   "outputs": [
    {
     "data": {
      "text/plain": [
       "({1: {'parents': [7], 'children': [], 'time': 0, 'frac': 1},\n",
       "  2: {'parents': [6], 'children': [], 'time': 0, 'frac': 1},\n",
       "  3: {'parents': [13], 'children': [], 'time': 0, 'frac': 1},\n",
       "  4: {'parents': [6], 'children': [], 'time': 0, 'frac': 1},\n",
       "  6: {'parents': [7],\n",
       "   'children': [4, 2],\n",
       "   'time': 11.752071745995476,\n",
       "   'frac': 1},\n",
       "  7: {'parents': [13],\n",
       "   'children': [1, 6],\n",
       "   'time': 12.219095397683192,\n",
       "   'frac': 1},\n",
       "  13: {'parents': [],\n",
       "   'children': [7, 3],\n",
       "   'time': 13.463169318248323,\n",
       "   'frac': 1}},\n",
       " [[0, 0, [1, 2, 3, 4], 1],\n",
       "  [6, 11.752071745995476, [1, 3, 6], 1],\n",
       "  [7, 12.219095397683192, [3, 7], 1],\n",
       "  [13, 13.463169318248323, [13], 1]])"
      ]
     },
     "execution_count": 121,
     "metadata": {},
     "output_type": "execute_result"
    }
   ],
   "source": [
    "nodes, events"
   ]
  },
  {
   "cell_type": "code",
   "execution_count": 66,
   "metadata": {},
   "outputs": [
    {
     "data": {
      "text/plain": [
       "({1: {'parents': [5], 'children': [], 'time': 0, 'frac': 1},\n",
       "  2: {'parents': [5], 'children': [], 'time': 0, 'frac': 1},\n",
       "  3: {'parents': [6], 'children': [], 'time': 0, 'frac': 1},\n",
       "  4: {'parents': [11, 12], 'children': [], 'time': 0, 'frac': 1},\n",
       "  5: {'parents': [8, 9],\n",
       "   'children': [1, 2],\n",
       "   'time': 0.11833789028345497,\n",
       "   'frac': 1},\n",
       "  6: {'parents': [7],\n",
       "   'children': [3, 9],\n",
       "   'time': 1.5843456087257037,\n",
       "   'frac': 1},\n",
       "  7: {'parents': [10],\n",
       "   'children': [12, 6],\n",
       "   'time': 2.4700176954196724,\n",
       "   'frac': 1},\n",
       "  8: {'parents': [10],\n",
       "   'children': [5],\n",
       "   'time': 1.3848982879330918,\n",
       "   'frac': 0.006495701815157906},\n",
       "  9: {'parents': [6],\n",
       "   'children': [5],\n",
       "   'time': 1.3848982879330918,\n",
       "   'frac': 0.9935042981848421},\n",
       "  10: {'parents': [13],\n",
       "   'children': [8, 7],\n",
       "   'time': 4.555364303718927,\n",
       "   'frac': 1},\n",
       "  11: {'parents': [13],\n",
       "   'children': [4],\n",
       "   'time': 1.8874390235618885,\n",
       "   'frac': 0.3324742746310916},\n",
       "  12: {'parents': [7],\n",
       "   'children': [4],\n",
       "   'time': 1.8874390235618885,\n",
       "   'frac': 0.6675257253689084},\n",
       "  13: {'parents': [],\n",
       "   'children': [11, 10],\n",
       "   'time': 6.382834678701178,\n",
       "   'frac': 1}},\n",
       " [[0, 0, [1, 2, 3, 4], 1],\n",
       "  [5, 0.11833789028345497, [3, 4, 5], 1],\n",
       "  [8, 1.3848982879330918, [8, 3, 4, 9], 0],\n",
       "  [9, 1.3848982879330918, [8, 9, 3, 4], 0],\n",
       "  [6, 1.5843456087257037, [8, 4, 6], 1],\n",
       "  [11, 1.8874390235618885, [8, 11, 6, 12], 0],\n",
       "  [12, 1.8874390235618885, [8, 11, 12, 6], 0],\n",
       "  [7, 2.4700176954196724, [8, 11, 7], 1],\n",
       "  [10, 4.555364303718927, [10, 11], 1],\n",
       "  [13, 6.382834678701178, [13], 1]])"
      ]
     },
     "execution_count": 66,
     "metadata": {},
     "output_type": "execute_result"
    }
   ],
   "source": [
    "def popn_rewire(nodes, events):\n",
    "    move = random.sample(list(nodes.keys()),1)[0]\n",
    "    if (len(nodes[move]['parents']) == 2) & (len(nodes[move]['children'])==2):\n",
    "        proposed_likelihood = 1\n",
    "        return nodes, events, proposed_likelihood\n",
    "    elif len(nodes[move]['children']) == 2:\n",
    "        "
   ]
  },
  {
   "cell_type": "code",
   "execution_count": 92,
   "metadata": {},
   "outputs": [
    {
     "data": {
      "text/plain": [
       "[1]"
      ]
     },
     "execution_count": 92,
     "metadata": {},
     "output_type": "execute_result"
    }
   ],
   "source": [
    "random.sample(list(nodes.keys()),1)"
   ]
  }
 ],
 "metadata": {
  "kernelspec": {
   "display_name": "myenv",
   "language": "python",
   "name": "myenv"
  },
  "language_info": {
   "codemirror_mode": {
    "name": "ipython",
    "version": 3
   },
   "file_extension": ".py",
   "mimetype": "text/x-python",
   "name": "python",
   "nbconvert_exporter": "python",
   "pygments_lexer": "ipython3",
   "version": "3.9.16"
  },
  "orig_nbformat": 4
 },
 "nbformat": 4,
 "nbformat_minor": 2
}
