{
 "cells": [
  {
   "cell_type": "code",
   "execution_count": 6,
   "metadata": {},
   "outputs": [],
   "source": [
    "import numpy as np\n",
    "import pandas as pd\n",
    "from scipy.stats import expon\n",
    "import math\n",
    "import random"
   ]
  },
  {
   "cell_type": "code",
   "execution_count": 10,
   "metadata": {},
   "outputs": [],
   "source": [
    "def popn_create(n=4):\n",
    "    nodes = {}\n",
    "    for i in range(1,n+1):\n",
    "        nodes[i] = {\n",
    "            'parents': [],\n",
    "            'children': [],\n",
    "            'time': 0,\n",
    "            'frac':1\n",
    "        }\n",
    "    current = [i for i in range(1,n+1)]\n",
    "    t = 0\n",
    "    events = [[0, 0,[i for i in range(1,n+1)],1]]\n",
    "    while len(current)!=1:\n",
    "        wait = expon.rvs(scale = math.comb(len(current),2), size = 1)[0]\n",
    "        t += wait\n",
    "        m = random.sample(current, 2)\n",
    "        new = len(nodes)+1\n",
    "        nodes[new] = {\n",
    "            'parents': [],\n",
    "            'children': m,\n",
    "            'time': t,\n",
    "            'frac': 1\n",
    "        }\n",
    "        for i in m:\n",
    "            nodes[i]['parents'] = [new]\n",
    "        current = list(filter(lambda x: x not in m, current))\n",
    "        current.append(new)\n",
    "        events.append([new,t,current,1])\n",
    "        \n",
    "\n",
    "    return nodes,events\n",
    "\n",
    "    "
   ]
  },
  {
   "cell_type": "code",
   "execution_count": 9,
   "metadata": {},
   "outputs": [],
   "source": [
    "def read_events(events):\n",
    "    out = {}\n",
    "    for i in events:\n",
    "        out[i[0]] = {'time': i[1],\n",
    "                     'current': i[2],\n",
    "                     'merge':i[3],\n",
    "                     }\n",
    "    return out\n",
    "\n",
    "def keys_events(events):\n",
    "    out = []\n",
    "    for i in events:\n",
    "        out.append(i[0])\n",
    "    return out\n",
    "\n",
    "def timeindex(events,t):\n",
    "    i = 0\n",
    "    if t>events[-1][1]:\n",
    "        return len(events)\n",
    "    else:\n",
    "        while t > events[i][1]:\n",
    "            i = i+1\n",
    "    return i"
   ]
  },
  {
   "cell_type": "code",
   "execution_count": 11,
   "metadata": {},
   "outputs": [
    {
     "data": {
      "text/plain": [
       "{1: {'parents': [6], 'children': [], 'time': 0, 'frac': 1},\n",
       " 2: {'parents': [7], 'children': [], 'time': 0, 'frac': 1},\n",
       " 3: {'parents': [5], 'children': [], 'time': 0, 'frac': 1},\n",
       " 4: {'parents': [5], 'children': [], 'time': 0, 'frac': 1},\n",
       " 5: {'parents': [6], 'children': [3, 4], 'time': 21.9823163993218, 'frac': 1},\n",
       " 6: {'parents': [7], 'children': [5, 1], 'time': 25.09832564477591, 'frac': 1},\n",
       " 7: {'parents': [], 'children': [6, 2], 'time': 25.84555753459837, 'frac': 1}}"
      ]
     },
     "execution_count": 11,
     "metadata": {},
     "output_type": "execute_result"
    }
   ],
   "source": [
    "nodes, events = popn_create()\n",
    "nodes\n"
   ]
  },
  {
   "cell_type": "code",
   "execution_count": 12,
   "metadata": {},
   "outputs": [
    {
     "data": {
      "text/plain": [
       "{'parents': [6], 'children': [], 'time': 0, 'frac': 1}"
      ]
     },
     "execution_count": 12,
     "metadata": {},
     "output_type": "execute_result"
    }
   ],
   "source": [
    "events[1][2]\n",
    "nodes[events[1][2][0]]"
   ]
  },
  {
   "cell_type": "markdown",
   "metadata": {},
   "source": [
    "There are two types of code in this implementation, one type that are deterministic, and the other type which involves some random distributions."
   ]
  },
  {
   "cell_type": "code",
   "execution_count": 13,
   "metadata": {},
   "outputs": [],
   "source": [
    "def split_time(events):\n",
    "    i = 0\n",
    "    t = 0\n",
    "    while (t>=events[i][1]) & (i<len(events)-1):\n",
    "        n = len(events[i][2])\n",
    "        t = events[i][1]\n",
    "        wait = expon.rvs(scale = math.comb(n,2), size = 1)[0]\n",
    "        t += wait\n",
    "        i += 1\n",
    "    if i == len(events)-1:\n",
    "        t = events[-1][1]+ expon.rvs(1, size = 1)[0]\n",
    "    return t"
   ]
  },
  {
   "cell_type": "code",
   "execution_count": 14,
   "metadata": {},
   "outputs": [
    {
     "data": {
      "text/plain": [
       "[[0, 0, [1, 2, 3, 4], 1],\n",
       " [5, 21.9823163993218, [1, 2, 5], 1],\n",
       " [6, 25.09832564477591, [2, 6], 1],\n",
       " [7, 25.84555753459837, [7], 1]]"
      ]
     },
     "execution_count": 14,
     "metadata": {},
     "output_type": "execute_result"
    }
   ],
   "source": [
    "split_time(events)\n",
    "events"
   ]
  },
  {
   "cell_type": "code",
   "execution_count": 15,
   "metadata": {},
   "outputs": [
    {
     "data": {
      "text/plain": [
       "0"
      ]
     },
     "execution_count": 15,
     "metadata": {},
     "output_type": "execute_result"
    }
   ],
   "source": [
    "math.comb(1,2)"
   ]
  },
  {
   "cell_type": "code",
   "execution_count": 16,
   "metadata": {},
   "outputs": [],
   "source": [
    "def mig_add(nodes, events):\n",
    "    t_1 = split_time(events)\n",
    "    t_2 = split_time(events)\n",
    "    t_from = min(t_1,t_2)\n",
    "    t_to = max(t_1,t_2)\n",
    "    t_from_index = timeindex(events,t_from)\n",
    "    t_to_index = timeindex(events,t_to)\n",
    "\n",
    "    ##t_from_index is the order index in events.\n",
    "    if t_from_index == len(events):\n",
    "        p_from = events[-1][0]\n",
    "    else:\n",
    "        p_from = random.sample(events[t_from_index-1][2],1)[0]\n",
    "    if t_to_index == len(events):\n",
    "        p_to = events[-1][0]\n",
    "    else:\n",
    "        p_to = random.sample(events[t_to_index-1][2],1)[0]\n",
    "    \n",
    "    f = random.uniform(0,1)\n",
    "    new_a, new_b, new_c = max(keys_events(events))+1, max(keys_events(events))+2, max(keys_events(events))+3\n",
    "    \n",
    "    #if p_to == p_from:\n",
    "    #    return nodes, events\n",
    "    ##This is the case that the migration happens before the root of the original tree.\n",
    "    if t_from_index==len(events):\n",
    "        nodes[new_a] = {\n",
    "        'parents':[new_c],\n",
    "        'children':[p_from],\n",
    "        'time':t_from,\n",
    "        'frac':f\n",
    "        }\n",
    "        nodes[new_b] = {\n",
    "        'parents':[new_c],\n",
    "        'children':[p_from],\n",
    "        'time':t_from,\n",
    "        'frac':1-f\n",
    "        }\n",
    "        nodes[new_c] = {\n",
    "        'parents':[],\n",
    "        'children':[new_a,new_b],\n",
    "        'time':t_to,\n",
    "        'frac':1\n",
    "        }\n",
    "        events.append([new_a,t_from,[new_a,new_b],0])\n",
    "        events.append([new_b,t_from,[new_a,new_b],0])\n",
    "        events.append([new_c,t_to,[new_c],1])\n",
    "        nodes[p_from]['parents']=[new_a,new_b]\n",
    "\n",
    "    ##This is the case that the end of migration is before the root of the tree.\n",
    "    else:\n",
    "        if p_to != p_from:\n",
    "\n",
    "            c_pa = nodes[p_to]['parents']\n",
    "            c_chi = [new_a, p_to]\n",
    "            b_pa = nodes[p_from]['parents']\n",
    "\n",
    "            ##Update the nodes\n",
    "            nodes[p_to]['parents'] = [new_c]\n",
    "            nodes[p_from]['parents'] = [new_a,new_b]\n",
    "            if len(c_pa)>0:\n",
    "                for x in c_pa:\n",
    "                    nodes[x]['children'].remove(p_to)\n",
    "                    nodes[x]['children'].append(new_c)\n",
    "            if len(b_pa)>0:\n",
    "                for x in b_pa:\n",
    "                    nodes[x]['children'].remove(p_from)\n",
    "                    nodes[x]['children'].append(new_b)\n",
    "            nodes[new_a] = {\n",
    "            'parents':[new_c],\n",
    "            'children':[p_from],\n",
    "            'time':t_from,\n",
    "            'frac':f\n",
    "            }\n",
    "            nodes[new_b] = {\n",
    "            'parents':b_pa,\n",
    "            'children':[p_from],\n",
    "            'time':t_from,\n",
    "            'frac':1-f\n",
    "            }\n",
    "            nodes[new_c] = {\n",
    "            'parents':c_pa,\n",
    "            'children':c_chi,\n",
    "            'time':t_to,\n",
    "            'frac':1\n",
    "            }\n",
    "            ##Update the events\n",
    "            events.insert(t_to_index,[new_c,t_to,[],1])\n",
    "            events.insert(t_from_index,[new_b,t_from,[],0])\n",
    "            events.insert(t_from_index,[new_a,t_from,[],0])\n",
    "            for i in range(t_from_index,len(events)):\n",
    "                events[i][2] = [x for x in events[i-1][2] if x not in nodes[events[i][0]]['children']]+[events[i][0]]\n",
    "                if events[i][1] == events[i-1][1]:\n",
    "                    events[i-1][2].append(events[i][0])\n",
    "                events[i][2] = list(set(events[i][2]))\n",
    "        else:\n",
    "            c_pa = nodes[p_to]['parents']\n",
    "            nodes[p_from]['parents'] = [new_a,new_b]\n",
    "            for x in c_pa:\n",
    "                nodes[x]['children'].remove(p_to)\n",
    "                nodes[x]['children'].append(new_c)\n",
    "\n",
    "            nodes[new_a] = {\n",
    "            'parents':[new_c],\n",
    "            'children':[p_from],\n",
    "            'time':t_from,\n",
    "            'frac':f\n",
    "            }\n",
    "            nodes[new_b] = {\n",
    "            'parents':[new_c],\n",
    "            'children':[p_from],\n",
    "            'time':t_from,\n",
    "            'frac':1-f\n",
    "            }\n",
    "            nodes[new_c] = {\n",
    "            'parents':c_pa,\n",
    "            'children':[new_a,new_b],\n",
    "            'time':t_to,\n",
    "            'frac':1\n",
    "            }\n",
    "            events.insert(t_to_index,[new_c,t_to,[],1])\n",
    "            events.insert(t_from_index,[new_b,t_from,[],0])\n",
    "            events.insert(t_from_index,[new_a,t_from,[],0])\n",
    "            for i in range(t_from_index,len(events)):\n",
    "                events[i][2] = [x for x in events[i-1][2] if x not in nodes[events[i][0]]['children']]+[events[i][0]]\n",
    "                if events[i][1] == events[i-1][1]:\n",
    "                    events[i-1][2].append(events[i][0])\n",
    "                events[i][2] = list(set(events[i][2]))\n",
    "\n",
    "    return nodes, events\n"
   ]
  },
  {
   "cell_type": "code",
   "execution_count": 17,
   "metadata": {},
   "outputs": [
    {
     "data": {
      "text/plain": [
       "{1: {'parents': [6], 'children': [], 'time': 0, 'frac': 1},\n",
       " 2: {'parents': [7], 'children': [], 'time': 0, 'frac': 1},\n",
       " 3: {'parents': [8, 9], 'children': [], 'time': 0, 'frac': 1},\n",
       " 4: {'parents': [5], 'children': [], 'time': 0, 'frac': 1},\n",
       " 5: {'parents': [6], 'children': [4, 10], 'time': 21.9823163993218, 'frac': 1},\n",
       " 6: {'parents': [7], 'children': [5, 1], 'time': 25.09832564477591, 'frac': 1},\n",
       " 7: {'parents': [], 'children': [6, 2], 'time': 25.84555753459837, 'frac': 1},\n",
       " 8: {'parents': [10],\n",
       "  'children': [3],\n",
       "  'time': 0.310014950541297,\n",
       "  'frac': 0.49956735117931095},\n",
       " 9: {'parents': [10],\n",
       "  'children': [3],\n",
       "  'time': 0.310014950541297,\n",
       "  'frac': 0.500432648820689},\n",
       " 10: {'parents': [5],\n",
       "  'children': [8, 9],\n",
       "  'time': 3.0430922047380307,\n",
       "  'frac': 1}}"
      ]
     },
     "execution_count": 17,
     "metadata": {},
     "output_type": "execute_result"
    }
   ],
   "source": [
    "\n",
    "nodes, events = mig_add(nodes, events)\n",
    "nodes\n"
   ]
  },
  {
   "cell_type": "code",
   "execution_count": 18,
   "metadata": {},
   "outputs": [],
   "source": [
    "nodes, events = popn_create()"
   ]
  },
  {
   "cell_type": "code",
   "execution_count": 56,
   "metadata": {},
   "outputs": [],
   "source": [
    "def mig_remove(nodes, events):\n",
    "    ##select all the migration branches\n",
    "    l = [x for x in events if x[-1]==0]\n",
    "    p_remove = random.sample(l,1)[0][0]\n",
    "    #select all the migration branches that removed\n",
    "    mig_remove = []\n",
    "    pend = [p_remove]\n",
    "    margin = nodes[nodes[p_remove]['children'][0]]['parents']\n",
    "    margin.remove(p_remove)\n",
    "    mig_count = 1\n",
    "    while  len(pend)!= 0:\n",
    "        a = pend.pop()\n",
    "        mig_remove.append(a)\n",
    "        ll = nodes[a]['parents']\n",
    "        if len(ll) == 2:\n",
    "            pend = pend + ll\n",
    "            mig_count += 1\n",
    "        if len(ll) == 1:\n",
    "            bran = ll[0]\n",
    "            if bran in margin:\n",
    "                pend.append(bran)\n",
    "                margin.remove(bran)\n",
    "            else:\n",
    "                margin.append(bran)\n",
    "    for i in list(nodes.keys()):\n",
    "        if i in mig_remove:\n",
    "            del nodes[i]\n",
    "        else:\n",
    "            nodes[i]['parents'] = [x for x in nodes[i]['parents'] if x not in mig_remove]\n",
    "            nodes[i]['children'] = [x for x in nodes[i]['children'] if x not in mig_remove]\n",
    "    total_remove = mig_remove.copy() + margin.copy()\n",
    "    lmargin = margin.copy()\n",
    "    while len(margin)!= 0:\n",
    "        ##Note that margin can only have one children\n",
    "        m = margin.pop()\n",
    "        pa = nodes[m]['parents']\n",
    "        while nodes[m]['children'][0] in margin:\n",
    "            m = nodes[m]['children'][0]\n",
    "            margin.remove(m)\n",
    "        for x in pa:\n",
    "            nodes[x]['children'] = nodes[x]['children'] + nodes[m]['children']\n",
    "        nodes[nodes[m]['children'][0]]['parents'] = pa\n",
    "    for i in list(nodes.keys()):\n",
    "        if i in lmargin:\n",
    "            del nodes[i]\n",
    "        else:\n",
    "            nodes[i]['parents'] = [x for x in nodes[i]['parents'] if x not in lmargin]\n",
    "            nodes[i]['children'] = [x for x in nodes[i]['children'] if x not in lmargin]\n",
    "    events = [x for x in events if x[0] not in total_remove]\n",
    "    for i in range(1,len(events)):\n",
    "            events[i][2] = [x for x in events[i-1][2] if x not in nodes[events[i][0]]['children']]+[events[i][0]]\n",
    "            if events[i][1] == events[i-1][1]:\n",
    "                events[i-1][2].append(events[i][0])\n",
    "            events[i][2] = list(set(events[i][2]))\n",
    "    for i in range(mig_count-1):\n",
    "         nodes, events = mig_add(nodes, events)\n",
    "         \n",
    "    \n",
    "    return nodes, events"
   ]
  },
  {
   "cell_type": "code",
   "execution_count": 64,
   "metadata": {},
   "outputs": [],
   "source": [
    "nodes, events = popn_create()\n",
    "nodes, events = mig_add(nodes, events)\n",
    "nodes, events = mig_add(nodes, events)\n",
    "nodes, events = mig_add(nodes, events)\n",
    "nodes, events = mig_remove(nodes, events)"
   ]
  },
  {
   "cell_type": "code",
   "execution_count": 65,
   "metadata": {},
   "outputs": [
    {
     "data": {
      "text/plain": [
       "({1: {'parents': [5], 'children': [], 'time': 0, 'frac': 1},\n",
       "  2: {'parents': [5], 'children': [], 'time': 0, 'frac': 1},\n",
       "  3: {'parents': [6], 'children': [], 'time': 0, 'frac': 1},\n",
       "  4: {'parents': [11, 12], 'children': [], 'time': 0, 'frac': 1},\n",
       "  5: {'parents': [8, 9],\n",
       "   'children': [1, 2],\n",
       "   'time': 0.11833789028345497,\n",
       "   'frac': 1},\n",
       "  6: {'parents': [7],\n",
       "   'children': [3, 9],\n",
       "   'time': 1.5843456087257037,\n",
       "   'frac': 1},\n",
       "  7: {'parents': [10],\n",
       "   'children': [12, 6],\n",
       "   'time': 2.4700176954196724,\n",
       "   'frac': 1},\n",
       "  8: {'parents': [10],\n",
       "   'children': [5],\n",
       "   'time': 1.3848982879330918,\n",
       "   'frac': 0.006495701815157906},\n",
       "  9: {'parents': [6],\n",
       "   'children': [5],\n",
       "   'time': 1.3848982879330918,\n",
       "   'frac': 0.9935042981848421},\n",
       "  10: {'parents': [13],\n",
       "   'children': [8, 7],\n",
       "   'time': 4.555364303718927,\n",
       "   'frac': 1},\n",
       "  11: {'parents': [13],\n",
       "   'children': [4],\n",
       "   'time': 1.8874390235618885,\n",
       "   'frac': 0.3324742746310916},\n",
       "  12: {'parents': [7],\n",
       "   'children': [4],\n",
       "   'time': 1.8874390235618885,\n",
       "   'frac': 0.6675257253689084},\n",
       "  13: {'parents': [],\n",
       "   'children': [11, 10],\n",
       "   'time': 6.382834678701178,\n",
       "   'frac': 1}},\n",
       " [[0, 0, [1, 2, 3, 4], 1],\n",
       "  [5, 0.11833789028345497, [3, 4, 5], 1],\n",
       "  [8, 1.3848982879330918, [8, 3, 4, 9], 0],\n",
       "  [9, 1.3848982879330918, [8, 9, 3, 4], 0],\n",
       "  [6, 1.5843456087257037, [8, 4, 6], 1],\n",
       "  [11, 1.8874390235618885, [8, 11, 6, 12], 0],\n",
       "  [12, 1.8874390235618885, [8, 11, 12, 6], 0],\n",
       "  [7, 2.4700176954196724, [8, 11, 7], 1],\n",
       "  [10, 4.555364303718927, [10, 11], 1],\n",
       "  [13, 6.382834678701178, [13], 1]])"
      ]
     },
     "execution_count": 65,
     "metadata": {},
     "output_type": "execute_result"
    }
   ],
   "source": [
    "nodes, events"
   ]
  }
 ],
 "metadata": {
  "kernelspec": {
   "display_name": "myenv",
   "language": "python",
   "name": "myenv"
  },
  "language_info": {
   "codemirror_mode": {
    "name": "ipython",
    "version": 3
   },
   "file_extension": ".py",
   "mimetype": "text/x-python",
   "name": "python",
   "nbconvert_exporter": "python",
   "pygments_lexer": "ipython3",
   "version": "3.9.16"
  },
  "orig_nbformat": 4
 },
 "nbformat": 4,
 "nbformat_minor": 2
}
